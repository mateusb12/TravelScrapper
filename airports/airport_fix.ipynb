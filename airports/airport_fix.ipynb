{
 "cells": [
  {
   "cell_type": "code",
   "execution_count": 13,
   "outputs": [],
   "source": [
    "# Read airport.csv and store on a pandas\n",
    "import pandas as pd\n",
    "airport_df = pd.read_csv('airport_codes.csv')"
   ],
   "metadata": {
    "collapsed": false,
    "pycharm": {
     "name": "#%%\n"
    }
   }
  },
  {
   "cell_type": "code",
   "execution_count": 14,
   "outputs": [
    {
     "data": {
      "text/plain": "         ident            type                         name  elevation_ft  \\\n0         00AA   small_airport         Aero B Ranch Airport        3435.0   \n1         00AK   small_airport                 Lowell Field         450.0   \n2         00AL   small_airport                 Epps Airpark         820.0   \n3         00AS   small_airport               Fulton Airport        1100.0   \n4         00AZ   small_airport               Cordes Airport        3810.0   \n...        ...             ...                          ...           ...   \n39137     ZYYJ  medium_airport  Yanji Chaoyangchuan Airport         624.0   \n39138     ZYYK  medium_airport        Yingkou Lanqi Airport           0.0   \n39139     ZYYY  medium_airport      Shenyang Dongta Airport           NaN   \n39140  ZZ-0002   small_airport    Glorioso Islands Airstrip          11.0   \n39141     ZZZZ   small_airport       Satsuma Iōjima Airport         338.0   \n\n      continent iso_country iso_region      municipality gps_code iata_code  \\\n0           NaN          US      US-KS             Leoti     00AA       NaN   \n1           NaN          US      US-AK      Anchor Point     00AK       NaN   \n2           NaN          US      US-AL           Harvest     00AL       NaN   \n3           NaN          US      US-OK              Alex     00AS       NaN   \n4           NaN          US      US-AZ            Cordes     00AZ       NaN   \n...         ...         ...        ...               ...      ...       ...   \n39137        AS          CN      CN-22             Yanji     ZYYJ       YNJ   \n39138        AS          CN      CN-21           Yingkou     ZYYK       YKH   \n39139        AS          CN      CN-21          Shenyang     ZYYY       NaN   \n39140        AF          TF     TF-U-A  Grande Glorieuse      NaN       NaN   \n39141        AS          JP      JP-46      Mishima-Mura     RJX7       NaN   \n\n      local_code                              coordinates  \n0           00AA                   38.704022, -101.473911  \n1           00AK              59.94919968, -151.695999146  \n2           00AL    34.86479949951172, -86.77030181884766  \n3           00AS                  34.9428028, -97.8180194  \n4           00AZ  34.305599212646484, -112.16500091552734  \n...          ...                                      ...  \n39137        NaN             42.8828010559, 129.451004028  \n39138        NaN                      40.542524, 122.3586  \n39139        NaN   41.784400939941406, 123.49600219726562  \n39140        NaN  -11.584277777799999, 47.296388888900005  \n39141        NaN                    30.784722, 130.270556  \n\n[39142 rows x 12 columns]",
      "text/html": "<div>\n<style scoped>\n    .dataframe tbody tr th:only-of-type {\n        vertical-align: middle;\n    }\n\n    .dataframe tbody tr th {\n        vertical-align: top;\n    }\n\n    .dataframe thead th {\n        text-align: right;\n    }\n</style>\n<table border=\"1\" class=\"dataframe\">\n  <thead>\n    <tr style=\"text-align: right;\">\n      <th></th>\n      <th>ident</th>\n      <th>type</th>\n      <th>name</th>\n      <th>elevation_ft</th>\n      <th>continent</th>\n      <th>iso_country</th>\n      <th>iso_region</th>\n      <th>municipality</th>\n      <th>gps_code</th>\n      <th>iata_code</th>\n      <th>local_code</th>\n      <th>coordinates</th>\n    </tr>\n  </thead>\n  <tbody>\n    <tr>\n      <th>0</th>\n      <td>00AA</td>\n      <td>small_airport</td>\n      <td>Aero B Ranch Airport</td>\n      <td>3435.0</td>\n      <td>NaN</td>\n      <td>US</td>\n      <td>US-KS</td>\n      <td>Leoti</td>\n      <td>00AA</td>\n      <td>NaN</td>\n      <td>00AA</td>\n      <td>38.704022, -101.473911</td>\n    </tr>\n    <tr>\n      <th>1</th>\n      <td>00AK</td>\n      <td>small_airport</td>\n      <td>Lowell Field</td>\n      <td>450.0</td>\n      <td>NaN</td>\n      <td>US</td>\n      <td>US-AK</td>\n      <td>Anchor Point</td>\n      <td>00AK</td>\n      <td>NaN</td>\n      <td>00AK</td>\n      <td>59.94919968, -151.695999146</td>\n    </tr>\n    <tr>\n      <th>2</th>\n      <td>00AL</td>\n      <td>small_airport</td>\n      <td>Epps Airpark</td>\n      <td>820.0</td>\n      <td>NaN</td>\n      <td>US</td>\n      <td>US-AL</td>\n      <td>Harvest</td>\n      <td>00AL</td>\n      <td>NaN</td>\n      <td>00AL</td>\n      <td>34.86479949951172, -86.77030181884766</td>\n    </tr>\n    <tr>\n      <th>3</th>\n      <td>00AS</td>\n      <td>small_airport</td>\n      <td>Fulton Airport</td>\n      <td>1100.0</td>\n      <td>NaN</td>\n      <td>US</td>\n      <td>US-OK</td>\n      <td>Alex</td>\n      <td>00AS</td>\n      <td>NaN</td>\n      <td>00AS</td>\n      <td>34.9428028, -97.8180194</td>\n    </tr>\n    <tr>\n      <th>4</th>\n      <td>00AZ</td>\n      <td>small_airport</td>\n      <td>Cordes Airport</td>\n      <td>3810.0</td>\n      <td>NaN</td>\n      <td>US</td>\n      <td>US-AZ</td>\n      <td>Cordes</td>\n      <td>00AZ</td>\n      <td>NaN</td>\n      <td>00AZ</td>\n      <td>34.305599212646484, -112.16500091552734</td>\n    </tr>\n    <tr>\n      <th>...</th>\n      <td>...</td>\n      <td>...</td>\n      <td>...</td>\n      <td>...</td>\n      <td>...</td>\n      <td>...</td>\n      <td>...</td>\n      <td>...</td>\n      <td>...</td>\n      <td>...</td>\n      <td>...</td>\n      <td>...</td>\n    </tr>\n    <tr>\n      <th>39137</th>\n      <td>ZYYJ</td>\n      <td>medium_airport</td>\n      <td>Yanji Chaoyangchuan Airport</td>\n      <td>624.0</td>\n      <td>AS</td>\n      <td>CN</td>\n      <td>CN-22</td>\n      <td>Yanji</td>\n      <td>ZYYJ</td>\n      <td>YNJ</td>\n      <td>NaN</td>\n      <td>42.8828010559, 129.451004028</td>\n    </tr>\n    <tr>\n      <th>39138</th>\n      <td>ZYYK</td>\n      <td>medium_airport</td>\n      <td>Yingkou Lanqi Airport</td>\n      <td>0.0</td>\n      <td>AS</td>\n      <td>CN</td>\n      <td>CN-21</td>\n      <td>Yingkou</td>\n      <td>ZYYK</td>\n      <td>YKH</td>\n      <td>NaN</td>\n      <td>40.542524, 122.3586</td>\n    </tr>\n    <tr>\n      <th>39139</th>\n      <td>ZYYY</td>\n      <td>medium_airport</td>\n      <td>Shenyang Dongta Airport</td>\n      <td>NaN</td>\n      <td>AS</td>\n      <td>CN</td>\n      <td>CN-21</td>\n      <td>Shenyang</td>\n      <td>ZYYY</td>\n      <td>NaN</td>\n      <td>NaN</td>\n      <td>41.784400939941406, 123.49600219726562</td>\n    </tr>\n    <tr>\n      <th>39140</th>\n      <td>ZZ-0002</td>\n      <td>small_airport</td>\n      <td>Glorioso Islands Airstrip</td>\n      <td>11.0</td>\n      <td>AF</td>\n      <td>TF</td>\n      <td>TF-U-A</td>\n      <td>Grande Glorieuse</td>\n      <td>NaN</td>\n      <td>NaN</td>\n      <td>NaN</td>\n      <td>-11.584277777799999, 47.296388888900005</td>\n    </tr>\n    <tr>\n      <th>39141</th>\n      <td>ZZZZ</td>\n      <td>small_airport</td>\n      <td>Satsuma Iōjima Airport</td>\n      <td>338.0</td>\n      <td>AS</td>\n      <td>JP</td>\n      <td>JP-46</td>\n      <td>Mishima-Mura</td>\n      <td>RJX7</td>\n      <td>NaN</td>\n      <td>NaN</td>\n      <td>30.784722, 130.270556</td>\n    </tr>\n  </tbody>\n</table>\n<p>39142 rows × 12 columns</p>\n</div>"
     },
     "execution_count": 14,
     "metadata": {},
     "output_type": "execute_result"
    }
   ],
   "source": [
    "airport_df"
   ],
   "metadata": {
    "collapsed": false,
    "pycharm": {
     "name": "#%%\n"
    }
   }
  },
  {
   "cell_type": "code",
   "execution_count": 18,
   "outputs": [
    {
     "data": {
      "text/plain": "{'Biała Podlaska': 'BXP',\n 'Bydgoszcz': 'BZG',\n 'Częstochowa': 'CZW',\n 'Gdańsk': 'GDN',\n 'Kraków': 'KRK',\n 'Zegrze Pomorskie': 'OSZ',\n 'Katowice': 'KTW',\n 'Czechowice-Dziedzice': 'QEO',\n 'Łódź': 'LCJ',\n 'Warsaw': 'WAW',\n 'Gdynia': 'QYD',\n 'Poznań': 'POZ',\n 'Radom': 'RDO',\n 'Rzeszów': 'RZE',\n 'Goleniow': 'SZZ',\n 'Olsztyn': 'SZY',\n 'Wrocław': 'WRO',\n 'Babimost': 'IEG',\n 'Lublin': 'LUZ'}"
     },
     "execution_count": 18,
     "metadata": {},
     "output_type": "execute_result"
    }
   ],
   "source": [
    "# Get all the airports in Poland and that have a non-null iata_code\n",
    "query = airport_df[(airport_df['iso_country'] == 'PL') & (airport_df['iata_code'].notnull())]\n",
    "\n",
    "# Map municipality with iata_code and store on a dict\n",
    "airport_dict = query.set_index('municipality').to_dict()['iata_code']\n",
    "airport_dict"
   ],
   "metadata": {
    "collapsed": false,
    "pycharm": {
     "name": "#%%\n"
    }
   }
  },
  {
   "cell_type": "code",
   "execution_count": 12,
   "outputs": [],
   "source": [],
   "metadata": {
    "collapsed": false,
    "pycharm": {
     "name": "#%%\n"
    }
   }
  },
  {
   "cell_type": "code",
   "execution_count": 12,
   "outputs": [],
   "source": [],
   "metadata": {
    "collapsed": false,
    "pycharm": {
     "name": "#%%\n"
    }
   }
  },
  {
   "cell_type": "code",
   "execution_count": null,
   "outputs": [],
   "source": [],
   "metadata": {
    "collapsed": false,
    "pycharm": {
     "name": "#%%\n"
    }
   }
  }
 ],
 "metadata": {
  "kernelspec": {
   "display_name": "Python 3",
   "language": "python",
   "name": "python3"
  },
  "language_info": {
   "codemirror_mode": {
    "name": "ipython",
    "version": 2
   },
   "file_extension": ".py",
   "mimetype": "text/x-python",
   "name": "python",
   "nbconvert_exporter": "python",
   "pygments_lexer": "ipython2",
   "version": "2.7.6"
  }
 },
 "nbformat": 4,
 "nbformat_minor": 0
}